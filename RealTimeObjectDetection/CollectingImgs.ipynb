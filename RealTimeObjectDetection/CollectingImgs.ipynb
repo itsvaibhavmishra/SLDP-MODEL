{
 "cells": [
  {
   "cell_type": "code",
   "execution_count": 2,
   "id": "ff69412b-ec8f-4674-8e12-0bc31f4a9629",
   "metadata": {},
   "outputs": [],
   "source": [
    "import cv2\n",
    "import os\n",
    "import time\n",
    "import uuid"
   ]
  },
  {
   "cell_type": "code",
   "execution_count": 3,
   "id": "48b2c444-9387-459b-8423-8e70b9bfe8de",
   "metadata": {},
   "outputs": [],
   "source": [
    "IMAGES_PATH = 'Tensorflow/workspace/images/collectedimgs'"
   ]
  },
  {
   "cell_type": "code",
   "execution_count": 4,
   "id": "7e34c45b-b94f-4a6f-a619-36eaa8207aa0",
   "metadata": {},
   "outputs": [],
   "source": [
    "labels = ['hello', 'friend', 'yes', 'no', 'thankyou', 'ok', 'bathroom', 'please', 'taijutsu']\n",
    "number_imgs = 15"
   ]
  },
  {
   "cell_type": "code",
   "execution_count": 5,
   "id": "167b2873-9137-48f2-903f-92d86f7b0add",
   "metadata": {},
   "outputs": [
    {
     "name": "stdout",
     "output_type": "stream",
     "text": [
      "Collecting images for hello\n",
      "Collecting images for friend\n",
      "Collecting images for yes\n",
      "Collecting images for no\n",
      "Collecting images for thankyou\n",
      "Collecting images for ok\n",
      "Collecting images for bathroom\n",
      "Collecting images for please\n",
      "Collecting images for taijutsu\n"
     ]
    }
   ],
   "source": [
    "for label in labels:\n",
    "    !mkdir {'Tensorflow\\workspace\\images\\collectedimgs\\\\' + label}\n",
    "    cap = cv2. VideoCapture(0)\n",
    "    print('Collecting images for {}'.format(label))\n",
    "    time.sleep(5)\n",
    "    for imgnum in range(number_imgs):\n",
    "        ret, frame = cap.read()\n",
    "        imgname = os.path.join(IMAGES_PATH, label, label + '.' + '{}.jpg'.format(str(uuid.uuid1())))\n",
    "        cv2.imwrite(imgname, frame)\n",
    "        cv2.imshow('frame', frame)\n",
    "        time.sleep(2)\n",
    "        \n",
    "        if cv2.waitKey(1) & 0xFF == ord('q'):\n",
    "            break\n",
    "    cap.release()"
   ]
  },
  {
   "cell_type": "code",
   "execution_count": null,
   "id": "ec069db6-7878-4f41-9f2e-ba05201b991d",
   "metadata": {},
   "outputs": [],
   "source": []
  }
 ],
 "metadata": {
  "kernelspec": {
   "display_name": "Python 3 (ipykernel)",
   "language": "python",
   "name": "python3"
  },
  "language_info": {
   "codemirror_mode": {
    "name": "ipython",
    "version": 3
   },
   "file_extension": ".py",
   "mimetype": "text/x-python",
   "name": "python",
   "nbconvert_exporter": "python",
   "pygments_lexer": "ipython3",
   "version": "3.9.6"
  }
 },
 "nbformat": 4,
 "nbformat_minor": 5
}
