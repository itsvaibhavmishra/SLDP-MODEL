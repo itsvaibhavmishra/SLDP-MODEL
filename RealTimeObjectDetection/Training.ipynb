{
 "cells": [
  {
   "cell_type": "code",
   "execution_count": 1,
   "id": "8dcc900a-5845-4848-a910-b8797e6d1cd8",
   "metadata": {},
   "outputs": [],
   "source": [
    "SCRIPTS_PATH = 'Tensorflow/scripts' # generated tf records\n",
    "APIMODEL_PATH = 'Tensorflow/models' # tf object detection model from github\n",
    "WORKSPACE_PATH = 'Tensorflow/workspace'\n",
    "ANNOTATION_PATH = WORKSPACE_PATH + '/annotations'\n",
    "IMAGE_PATH = WORKSPACE_PATH + '/images'\n",
    "PRETRAINED_MODEL_PATH = WORKSPACE_PATH + '/pre-trained-models'\n",
    "MODEL_PATH = WORKSPACE_PATH + '/models' # will store trained models\n",
    "CONFIG_PATH = MODEL_PATH + '/my_ssd_mobnet/pipeline.config'\n",
    "CHECKPOINT_PATH = MODEL_PATH + '/my_ssd_mobnet/' # stores checkpoints from trained models"
   ]
  },
  {
   "cell_type": "code",
   "execution_count": 2,
   "id": "4645e24a-a088-42ee-bf9b-26f1100ba1e2",
   "metadata": {},
   "outputs": [],
   "source": [
    "labels = [\n",
    "    {'name':'Hello', 'id':1},\n",
    "    {'name':'Friend', 'id':2},\n",
    "    {'name':'Yes', 'id':3},\n",
    "    {'name':'No', 'id':4},\n",
    "    {'name':'Thank You', 'id':5},\n",
    "    {'name':'Ok', 'id':6},\n",
    "    {'name':'Bathroom', 'id':7},\n",
    "    {'name':'Please', 'id':8},\n",
    "    {'name':'1000 Years of Death', 'id':9},\n",
    "]\n",
    "\n",
    "# creating a file containg all the labels\n",
    "with open(ANNOTATION_PATH + '\\label_map.pbtxt', 'w') as f:\n",
    "    for label in labels:\n",
    "        f.write('item { \\n')\n",
    "        f.write('\\tname:\\'{}\\'\\n'.format(label['name']))\n",
    "        f.write('\\tid:{}\\n'.format(label['id']))\n",
    "        f.write('}\\n')"
   ]
  },
  {
   "cell_type": "code",
   "execution_count": 3,
   "id": "7d87913f-bb79-4b43-b136-eb7303fd8ef1",
   "metadata": {},
   "outputs": [
    {
     "name": "stdout",
     "output_type": "stream",
     "text": [
      "Successfully created the TFRecord file: Tensorflow/workspace/annotations/train.record\n",
      "Successfully created the TFRecord file: Tensorflow/workspace/annotations/test.record\n"
     ]
    }
   ],
   "source": [
    "# Code for generating training record\n",
    "!python {SCRIPTS_PATH + '/generate_tfrecord.py'} -x {IMAGE_PATH + '/train'} -l {ANNOTATION_PATH + '/label_map.pbtxt'} -o {ANNOTATION_PATH + '/train.record'}\n",
    "\n",
    "# Code for generating testing record\n",
    "!python {SCRIPTS_PATH + '/generate_tfrecord.py'} -x {IMAGE_PATH + '/test'} -l {ANNOTATION_PATH + '/label_map.pbtxt'} -o {ANNOTATION_PATH + '/test.record'}"
   ]
  },
  {
   "cell_type": "code",
   "execution_count": null,
   "id": "1c5d6f39-cfe7-44c9-97bf-4a5a3c61a7ed",
   "metadata": {
    "tags": []
   },
   "outputs": [],
   "source": [
    "# Models repo was forked from official TensorFlow GitHub Repo\n",
    "!cd Tensorflow && git clone https://github.com/itsvaibhavmishra/models"
   ]
  },
  {
   "cell_type": "code",
   "execution_count": 4,
   "id": "9fe4d538-9185-48aa-8cf9-7bef9740bc53",
   "metadata": {},
   "outputs": [
    {
     "name": "stderr",
     "output_type": "stream",
     "text": [
      "A subdirectory or file Tensorflow\\workspace\\models\\my_ssd_mobnet already exists.\n"
     ]
    }
   ],
   "source": [
    "CUSTOM_MODEL_NAME = 'my_ssd_mobnet' # name of custom model\n",
    "\n",
    "# making new dir for storing config file\n",
    "!mkdir {'Tensorflow\\workspace\\models\\\\' + CUSTOM_MODEL_NAME}\n",
    "# copying data\n",
    "!cp {PRETRAINED_MODEL_PATH + '/ssd_mobilenet_v2_fpnlite_320x320_coco17_tpu-8/pipeline.config'} {MODEL_PATH + '/' + CUSTOM_MODEL_NAME}"
   ]
  },
  {
   "cell_type": "code",
   "execution_count": 5,
   "id": "cfec83b3-3606-461c-9340-b305f86817f6",
   "metadata": {},
   "outputs": [],
   "source": [
    "# Importing dependencies for updating config\n",
    "\n",
    "import tensorflow as tf\n",
    "from object_detection.utils import config_util # for path configuration\n",
    "from object_detection.protos import pipeline_pb2\n",
    "from google.protobuf import text_format"
   ]
  },
  {
   "cell_type": "code",
   "execution_count": 6,
   "id": "f3b940c6-3a77-4c9b-9f87-0b4e4e9bafcc",
   "metadata": {},
   "outputs": [],
   "source": [
    "CONFIG_PATH = MODEL_PATH + '/' + CUSTOM_MODEL_NAME + '/pipeline.config'\n",
    "config = config_util.get_configs_from_pipeline_file(CONFIG_PATH) # getting config into notebook for making changes"
   ]
  },
  {
   "cell_type": "code",
   "execution_count": null,
   "id": "6df0d4f9-7d56-443f-9e26-6270853cffe0",
   "metadata": {
    "tags": []
   },
   "outputs": [],
   "source": [
    "config"
   ]
  },
  {
   "cell_type": "code",
   "execution_count": 7,
   "id": "76b8ac88-e1bd-4f4b-94dd-eb625c3c1885",
   "metadata": {},
   "outputs": [],
   "source": [
    "pipeline_config = pipeline_pb2.TrainEvalPipelineConfig() # Template pipeline config\n",
    "with tf.io.gfile.GFile(CONFIG_PATH, 'r') as f:\n",
    "    proto_str = f.read()\n",
    "    text_format.Merge(proto_str, pipeline_config)"
   ]
  },
  {
   "cell_type": "code",
   "execution_count": 8,
   "id": "89bf92e6-c307-474f-a794-93f2cefe380a",
   "metadata": {
    "tags": []
   },
   "outputs": [],
   "source": [
    "pipeline_config.model.ssd.num_classes = 9 # number of different types of model need to be configured i.e. 9\n",
    "pipeline_config.train_config.batch_size = 4 # data processed dependent on hardware capacity\n",
    "pipeline_config.train_config.fine_tune_checkpoint = PRETRAINED_MODEL_PATH + '/ssd_mobilenet_v2_fpnlite_320x320_coco17_tpu-8/checkpoint/ckpt-0'\n",
    "pipeline_config.train_config.fine_tune_checkpoint_type = 'detection' # Changing from classification to detection\n",
    "pipeline_config.train_input_reader.label_map_path = ANNOTATION_PATH + '/label_map.pbtxt'\n",
    "pipeline_config.train_input_reader.tf_record_input_reader.input_path[:] = [ANNOTATION_PATH + '/train.record'] # tf records\n",
    "pipeline_config.eval_input_reader[0].label_map_path = ANNOTATION_PATH + '/label_map.pbtxt'\n",
    "pipeline_config.eval_input_reader[0].tf_record_input_reader.input_path[:] = [ANNOTATION_PATH + '/test.record'] # tf records"
   ]
  },
  {
   "cell_type": "code",
   "execution_count": 9,
   "id": "5d7d1040-6294-44e7-863c-48290d126c08",
   "metadata": {
    "tags": []
   },
   "outputs": [],
   "source": [
    "config_text = text_format.MessageToString(pipeline_config) # converting protobuf message to string\n",
    "with tf.io.gfile.GFile(CONFIG_PATH, 'wb') as f:\n",
    "    f.write(config_text)"
   ]
  },
  {
   "cell_type": "code",
   "execution_count": null,
   "id": "f121190a-bfa2-435d-a5ff-88f029b92ce6",
   "metadata": {},
   "outputs": [],
   "source": [
    "print(\"\"\"python {}/research/object_detection/model_main_tf2.py --model_dir={}/{} --pipeline_config_path={}/{}/pipeline.config --num_train_steps=20000\"\"\".format(APIMODEL_PATH, MODEL_PATH,CUSTOM_MODEL_NAME,MODEL_PATH,CUSTOM_MODEL_NAME))\n",
    "\n",
    "# increasing num_train_steps will makes detections more accurate but will also take a lot of time"
   ]
  },
  {
   "cell_type": "code",
   "execution_count": 10,
   "id": "2591446d-82f2-4df6-b199-14abd9ad8e80",
   "metadata": {},
   "outputs": [],
   "source": [
    "# Loading trained model from checkpoint\n",
    "import os\n",
    "from object_detection.utils import label_map_util\n",
    "from object_detection.utils import visualization_utils as vz_utils # for making bounding box\n",
    "from object_detection.builders import model_builder # builds model from checkpoint"
   ]
  },
  {
   "cell_type": "code",
   "execution_count": 11,
   "id": "9a817cbb-108f-4ade-a4fc-e32a8ee061c5",
   "metadata": {},
   "outputs": [
    {
     "data": {
      "text/plain": [
       "<tensorflow.python.training.tracking.util.CheckpointLoadStatus at 0x263bd063c10>"
      ]
     },
     "execution_count": 11,
     "metadata": {},
     "output_type": "execute_result"
    }
   ],
   "source": [
    "# Load pipeline config and build a detection model\n",
    "configs = config_util.get_configs_from_pipeline_file(CONFIG_PATH)\n",
    "detection_model = model_builder.build(model_config=configs['model'], is_training=False)\n",
    "\n",
    "# Restore checkpoint\n",
    "ckpt = tf.compat.v2.train.Checkpoint(model=detection_model)\n",
    "ckpt.restore(os.path.join(CHECKPOINT_PATH, 'ckpt-21')).expect_partial() # ckpt-21 is the latest checkpoint"
   ]
  },
  {
   "cell_type": "code",
   "execution_count": 12,
   "id": "f980f8e1-f2ac-4cb7-ae89-1a4b00a58695",
   "metadata": {},
   "outputs": [],
   "source": [
    "@tf.function\n",
    "def detect_fn(image):\n",
    "    image, shapes = detection_model.preprocess(image) # resizing image to 320x320\n",
    "    prediction_dict = detection_model.predict(image, shapes) # making predictions\n",
    "    detections = detection_model.postprocess(prediction_dict, shapes)\n",
    "    return detections"
   ]
  },
  {
   "cell_type": "code",
   "execution_count": 13,
   "id": "04ba88c2-02a4-4bfa-af40-4479721ce20f",
   "metadata": {},
   "outputs": [],
   "source": [
    "# Real-Time Detections using OpenCV\n",
    "# importing dependencies\n",
    "import cv2\n",
    "import numpy as np"
   ]
  },
  {
   "cell_type": "code",
   "execution_count": 14,
   "id": "133d3a16-8804-4c92-a489-d17406f5cfd3",
   "metadata": {},
   "outputs": [],
   "source": [
    "category_index = label_map_util.create_category_index_from_labelmap(ANNOTATION_PATH + '/label_map.pbtxt')"
   ]
  },
  {
   "cell_type": "code",
   "execution_count": 15,
   "id": "acad3a4d-e43e-476c-a78c-4fdc9e03ffa4",
   "metadata": {},
   "outputs": [],
   "source": [
    "# Setting up capture\n",
    "cap = cv2.VideoCapture(0) # '0' is the device number for my camera\n",
    "height = int(cap.get(cv2.CAP_PROP_FRAME_HEIGHT))\n",
    "width = int(cap.get(cv2.CAP_PROP_FRAME_WIDTH))"
   ]
  },
  {
   "cell_type": "code",
   "execution_count": 16,
   "id": "fa283c3e-5419-4be4-9006-dfdddf10d297",
   "metadata": {
    "scrolled": true,
    "tags": []
   },
   "outputs": [],
   "source": [
    "while True: \n",
    "    ret, frame = cap.read()\n",
    "    image_np = np.array(frame)\n",
    "    \n",
    "    input_tensor = tf.convert_to_tensor(np.expand_dims(image_np, 0), dtype=tf.float32)\n",
    "    detections = detect_fn(input_tensor)\n",
    "    \n",
    "    num_detections = int(detections.pop('num_detections'))\n",
    "    detections = {key: value[0, :num_detections].numpy()\n",
    "                  for key, value in detections.items()}\n",
    "    detections['num_detections'] = num_detections\n",
    "\n",
    "    # detection_classes should be ints.\n",
    "    detections['detection_classes'] = detections['detection_classes'].astype(np.int64)\n",
    "\n",
    "    label_id_offset = 1\n",
    "    image_np_with_detections = image_np.copy()\n",
    "\n",
    "    vz_utils.visualize_boxes_and_labels_on_image_array(\n",
    "                image_np_with_detections,\n",
    "                detections['detection_boxes'],\n",
    "                detections['detection_classes']+label_id_offset,\n",
    "                detections['detection_scores'],\n",
    "                category_index,\n",
    "                use_normalized_coordinates=True,\n",
    "                max_boxes_to_draw=5,\n",
    "                min_score_thresh=.5,\n",
    "                agnostic_mode=False)\n",
    "\n",
    "    cv2.imshow('SLDP-Training-Model',  cv2.resize(image_np_with_detections, (800, 600)))\n",
    "    \n",
    "    if cv2.waitKey(1) & 0xFF == ord('q'):\n",
    "        cap.release()\n",
    "        break"
   ]
  },
  {
   "cell_type": "code",
   "execution_count": null,
   "id": "722e027c-f8e6-4ec4-8613-557d0944a674",
   "metadata": {},
   "outputs": [],
   "source": []
  }
 ],
 "metadata": {
  "kernelspec": {
   "display_name": "Python 3 (ipykernel)",
   "language": "python",
   "name": "python3"
  },
  "language_info": {
   "codemirror_mode": {
    "name": "ipython",
    "version": 3
   },
   "file_extension": ".py",
   "mimetype": "text/x-python",
   "name": "python",
   "nbconvert_exporter": "python",
   "pygments_lexer": "ipython3",
   "version": "3.9.6"
  }
 },
 "nbformat": 4,
 "nbformat_minor": 5
}
